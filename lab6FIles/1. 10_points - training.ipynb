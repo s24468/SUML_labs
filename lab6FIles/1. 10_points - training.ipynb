{
 "nbformat": 4,
 "nbformat_minor": 0,
 "metadata": {
  "kernelspec": {
   "display_name": "Python 3 (ipykernel)",
   "language": "python",
   "name": "python3"
  },
  "language_info": {
   "codemirror_mode": {
    "name": "ipython",
    "version": 3
   },
   "file_extension": ".py",
   "mimetype": "text/x-python",
   "name": "python",
   "nbconvert_exporter": "python",
   "pygments_lexer": "ipython3",
   "version": "3.7.4"
  },
  "colab": {
   "name": "Kopia 1. 10_points - training.ipynb",
   "provenance": []
  }
 },
 "cells": [
  {
   "cell_type": "code",
   "metadata": {
    "id": "7uoO61XQGJ0R",
    "executionInfo": {
     "status": "ok",
     "timestamp": 1635058775299,
     "user_tz": -120,
     "elapsed": 1125,
     "user": {
      "displayName": "Rafał Moczadło",
      "photoUrl": "https://lh3.googleusercontent.com/a-/AOh14GiQd2e14KMAFHg6GMBdBuskAZX6DhXszrhT3cgeHw=s64",
      "userId": "00472334976684411054"
     }
    }
   },
   "source": [
    "import os\n",
    "\n",
    "import pandas as pd\n",
    "import numpy as np\n",
    "from matplotlib import pyplot as plt\n",
    "from sklearn.linear_model import LinearRegression"
   ],
   "outputs": [],
   "execution_count": null
  },
  {
   "cell_type": "code",
   "metadata": {
    "id": "3KMUIaqLGJ0U"
   },
   "source": "df = pd.read_csv('C:\\\\Users\\Jarek\\PycharmProjects\\SUML_labs\\lab6FIles\\\\10_points.csv')",
   "outputs": [],
   "execution_count": null
  },
  {
   "cell_type": "code",
   "metadata": {
    "id": "MICcsTO4GJ0U",
    "outputId": "d03cb97e-ccd3-4e07-ae72-ebf1e4980ef4"
   },
   "source": [
    "df"
   ],
   "outputs": [],
   "execution_count": null
  },
  {
   "cell_type": "code",
   "metadata": {
    "id": "67lB0gjkGJ0V",
    "outputId": "cba8dfb1-39a4-4e26-e112-11a8da7628b7"
   },
   "source": [
    "plt.scatter(df['x'], df['y'])"
   ],
   "outputs": [],
   "execution_count": null
  },
  {
   "cell_type": "code",
   "metadata": {
    "id": "-yipfpjeGJ0V"
   },
   "source": [
    "X = df['x'].values.reshape(-1,1) # values converts it into a numpy array\n",
    "y = df['y'].values.reshape(-1,1) # -1 means that calculate the dimension of rows, but have 1 column"
   ],
   "outputs": [],
   "execution_count": null
  },
  {
   "cell_type": "code",
   "metadata": {
    "id": "rGh2Rc7MGJ0W",
    "outputId": "b28edf67-5c17-4190-da4c-bd98684cb36d"
   },
   "source": [
    "X"
   ],
   "outputs": [],
   "execution_count": null
  },
  {
   "cell_type": "code",
   "metadata": {
    "id": "w_x7AjUUGJ0W",
    "outputId": "2b3e2500-bda3-4334-f2c5-adf1105f71d9"
   },
   "source": [
    "plt.scatter(X, y)"
   ],
   "outputs": [],
   "execution_count": null
  },
  {
   "cell_type": "code",
   "metadata": {
    "id": "ancTr6KwGJ0X"
   },
   "source": [
    "linear_regressor = LinearRegression()"
   ],
   "outputs": [],
   "execution_count": null
  },
  {
   "cell_type": "code",
   "metadata": {
    "id": "Z6kMfa5lGJ0X",
    "outputId": "e725d289-a65b-40b2-b638-0fa780b9d3da"
   },
   "source": [
    "linear_regressor.fit(X, y)"
   ],
   "outputs": [],
   "execution_count": null
  },
  {
   "cell_type": "code",
   "metadata": {
    "id": "-dbxfMGLGJ0Y"
   },
   "source": [
    "y_pred = linear_regressor.predict(X)"
   ],
   "outputs": [],
   "execution_count": null
  },
  {
   "cell_type": "code",
   "metadata": {
    "id": "wUQIqFwCGJ0Y",
    "outputId": "edee1cb3-26b9-4f18-a27b-6750f1c5d838"
   },
   "source": [
    "plt.scatter(X, y)\n",
    "plt.plot(X, y_pred, color='red')\n",
    "plt.show()"
   ],
   "outputs": [],
   "execution_count": null
  },
  {
   "cell_type": "code",
   "metadata": {
    "id": "8rBQVOmCGJ0Y",
    "outputId": "dd85b2d0-de59-4707-c0ec-6f49b59e7a0e"
   },
   "source": [
    "linear_regressor.coef_"
   ],
   "outputs": [],
   "execution_count": null
  },
  {
   "cell_type": "code",
   "metadata": {
    "id": "1JpPAmlyGJ0Z",
    "outputId": "24221a84-42c5-48b5-a966-c49d1bb700c7"
   },
   "source": [
    "type(linear_regressor.coef_)"
   ],
   "outputs": [],
   "execution_count": null
  },
  {
   "cell_type": "code",
   "metadata": {
    "id": "u2yGbI1yGJ0Z",
    "outputId": "de4c4f19-e98a-4432-c70e-8ce1130216e2"
   },
   "source": [
    "linear_regressor.coef_[0][0]"
   ],
   "outputs": [],
   "execution_count": null
  },
  {
   "cell_type": "code",
   "metadata": {
    "id": "fBv9GIXrGJ0Z"
   },
   "source": [
    ""
   ],
   "outputs": [],
   "execution_count": null
  },
  {
   "cell_type": "code",
   "metadata": {
    "id": "t8kkUzJLGJ0Z",
    "outputId": "3c89c4ba-6ebd-41f5-bdf8-1be9020906d1"
   },
   "source": [
    "linear_regressor.intercept_[0]"
   ],
   "outputs": [],
   "execution_count": null
  },
  {
   "cell_type": "markdown",
   "metadata": {
    "id": "aVfy9luIGJ0a"
   },
   "source": [
    "# Infer"
   ]
  },
  {
   "cell_type": "code",
   "metadata": {
    "id": "-dW3TYlQGJ0a",
    "outputId": "fbf86515-b692-42e2-ac6b-b10f6424a0a0"
   },
   "source": [
    "X.shape"
   ],
   "outputs": [],
   "execution_count": null
  },
  {
   "cell_type": "code",
   "metadata": {
    "id": "sZbJnSHSGJ0b",
    "outputId": "0d095125-814d-4a8a-f4e5-15db1edbd541"
   },
   "source": [
    "type(X)"
   ],
   "outputs": [],
   "execution_count": null
  },
  {
   "cell_type": "code",
   "metadata": {
    "id": "qdS1fE23GJ0b",
    "outputId": "74c36763-7ee9-4f54-a857-c5cf11ca2eb8"
   },
   "source": [
    "X"
   ],
   "outputs": [],
   "execution_count": null
  },
  {
   "cell_type": "code",
   "metadata": {
    "id": "wFKYjVnZGJ0b"
   },
   "source": [
    "X_new = np.array([2.5])"
   ],
   "outputs": [],
   "execution_count": null
  },
  {
   "cell_type": "code",
   "metadata": {
    "id": "uS2EPe2VGJ0b",
    "outputId": "e1edc993-b98d-4ca5-ad6d-ad5eeeabfa26"
   },
   "source": [
    "X_new.reshape(-1,1)"
   ],
   "outputs": [],
   "execution_count": null
  },
  {
   "cell_type": "code",
   "metadata": {
    "id": "0Ds_POIpGJ0b"
   },
   "source": [
    "y_new = linear_regressor.predict(X_new.reshape(-1,1))"
   ],
   "outputs": [],
   "execution_count": null
  },
  {
   "cell_type": "code",
   "metadata": {
    "id": "hxS38aBTGJ0c",
    "outputId": "31b23501-07e7-4606-f652-4ae9fc933543"
   },
   "source": [
    "y_new"
   ],
   "outputs": [],
   "execution_count": null
  },
  {
   "cell_type": "code",
   "metadata": {
    "id": "JxwTbcGGGJ0c",
    "outputId": "182a0436-c6bc-4cdd-d73d-252f35c7cef0"
   },
   "source": [
    "2.5*1.83 + 1.154"
   ],
   "outputs": [],
   "execution_count": null
  },
  {
   "cell_type": "markdown",
   "metadata": {
    "id": "dvuSigYOGJ0c"
   },
   "source": [
    "# Push to production"
   ]
  },
  {
   "cell_type": "code",
   "metadata": {
    "id": "vu9yGHEiGJ0c"
   },
   "source": "import pickle",
   "outputs": [],
   "execution_count": null
  },
  {
   "cell_type": "code",
   "metadata": {
    "id": "yHdDCmTEGJ0c",
    "ExecuteTime": {
     "end_time": "2024-11-15T13:44:32.946446Z",
     "start_time": "2024-11-15T13:44:32.936093Z"
    }
   },
   "source": [
    "import os\n",
    "\n",
    "print(os.getcwd())\n",
    "\n",
    "pickle.dump(linear_regressor, open('our_model.pkl', 'wb'))"
   ],
   "outputs": [
    {
     "name": "stdout",
     "output_type": "stream",
     "text": [
      "C:\\Users\\Jarek\\PycharmProjects\\SUML_labs\\lab6FIles\n"
     ]
    }
   ],
   "execution_count": 78
  },
  {
   "cell_type": "code",
   "metadata": {
    "id": "t0TTM2-GGJ0c",
    "outputId": "d9eb9d5b-1ebe-4551-b2e5-ea96af075d99"
   },
   "source": [
    "!ls"
   ],
   "outputs": [],
   "execution_count": null
  },
  {
   "cell_type": "markdown",
   "metadata": {
    "id": "44t5zlv_GJ0c"
   },
   "source": [
    ""
   ]
  }
 ]
}
